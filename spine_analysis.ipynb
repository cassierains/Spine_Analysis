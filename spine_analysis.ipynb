{
  "nbformat": 4,
  "nbformat_minor": 0,
  "metadata": {
    "colab": {
      "provenance": []
    },
    "kernelspec": {
      "name": "python3",
      "display_name": "Python 3"
    },
    "language_info": {
      "name": "python"
    }
  },
  "cells": [
    {
      "cell_type": "markdown",
      "source": [
        "#Predicting the Class of Patients from Biomechanical Measurements"
      ],
      "metadata": {
        "id": "m752h6Td7tcl"
      }
    },
    {
      "cell_type": "markdown",
      "source": [
        "##Introduction\n"
      ],
      "metadata": {
        "id": "0ZGJKXu2RvyO"
      }
    },
    {
      "cell_type": "markdown",
      "source": [
        "###About\n",
        "This dataset was found on Kaggle at https://www.kaggle.com/datasets/nreshma/vertebral-column-dataset. Only the dataset itself plus a few labels were uploaded; and I also had to do some digging to find detailed explainations of the the biomechanical measurements, which I've summarized below. I would like to preface that I am not a physician. This notebook explores the dataset, just for fun and to flex my skills in statisics and machine learning. It is not genuine medical research.\n",
        "\n",
        "After the background review of existing literature, there will be exploratory analytics done on the dataset to inform what kind of machine learning model that will be used later. It will also provide insight into how each measurement influences the patient's classification and detail relationships between the measurements.\n",
        "\n",
        "This analysis culminates in creating machine learning algorithms that predict a patient's spine health classification based on their biomechanical measurements."
      ],
      "metadata": {
        "id": "Nbh9qvZT2R_J"
      }
    },
    {
      "cell_type": "markdown",
      "source": [
        "###Biomechanical Measurements\n",
        "\n",
        "**Pelvic Tilt** is the angle between a vertical line, and the line between the center of the femoral head and the center of the sacral plateau of the S1 vertebrae. It describes the forward or backward orientation of the pelvis (Le Huec, 2011).\n",
        "\n",
        "\n",
        "**Sacral Slope** is the angle of the sacral plateau of the S1 vertebrae to a horizontal line. It determines the position of the lumbar spine (Le Huec, 2011).\n",
        "\n",
        "**Pelvic Incidence** is the sum of pelvic tilt and sacral slope angles. This number is fixed for a given patent (though it is different for each patient), giving sacral slope and pelvic tilt an inverse relationship. Pelvic incidence determines the relative position of the sacral plate in relation to the femoral heads (Le Huec, 2011).\n",
        "\n",
        "**Lumbar Lordosis Angle** is the of curvature of the lumbar spine that generally absorbs compressive forces on the spine. It is the angle created by lines extending from the L1 and L5 vertebrae. (Dimitrijević, 2022)\n",
        "\n",
        "**Pelvic Radius** is the measurement taken from a line drawn between the hip axis and the posterior corner of S1 (Le Huec, 2011).\n",
        "\n",
        "\n",
        "**Degree Spondylolisthesis** measures how much a vertebrae has slipped onto an adjacent vertebrae, with respect to that adjacent vertebrae. (Gillis, 2023)"
      ],
      "metadata": {
        "id": "6X5kgYQ02HAq"
      }
    },
    {
      "cell_type": "markdown",
      "source": [
        "###Classifications\n",
        "**Class** describes each subjects' spine as one of; **Normal (NO)** or **Abnormal (AB)**. **Abnormal** spines have the sub-classification of **Disk Hernia (DH)** or **Spondylolisthesis (SL)**\n",
        "\n",
        "**NO** denotes a subject whose biomechanical measurements do not indicate either a disk hernia nor spondylolisthesis. It's important to mention these are the only two conditions considered in this dataset.\n",
        "\n",
        "**AB** denotes a subject whose biomechanical measurements indicate either a disk hernia or spondylolisthesis.\n",
        "\n",
        "**DH**\n",
        "\n",
        "**SL**"
      ],
      "metadata": {
        "id": "coARhABp1qDo"
      }
    },
    {
      "cell_type": "code",
      "source": [
        "#Unzip dataset files\n",
        "#importing required modules\n",
        "from zipfile import ZipFile\n",
        "\n",
        "#specifying the zip file name\n",
        "file_name = \"/content/drive/MyDrive/Data Projects/Vertebral Abnormalities/vertebralColumn.zip\"\n",
        "\n",
        "#opening the zip file in READ mode\n",
        "with ZipFile(file_name, 'r') as zip:\n",
        "    #printing all the contents of the zip file\n",
        "    zip.printdir()\n",
        "\n",
        "    #extracting all the files\n",
        "    print('Extracting all the files now...')\n",
        "    zip.extractall()\n",
        "    print('Done!')"
      ],
      "metadata": {
        "id": "V6eut6O4d224",
        "colab": {
          "base_uri": "https://localhost:8080/"
        },
        "outputId": "eed37e65-671e-40fd-81e1-cc277a5f531a"
      },
      "execution_count": null,
      "outputs": [
        {
          "output_type": "stream",
          "name": "stdout",
          "text": [
            "File Name                                             Modified             Size\n",
            "column_2C.dat                                  2023-06-23 04:08:10        11796\n",
            "column_2C_weka.arff                            2023-06-23 04:08:10        25142\n",
            "column_3C.dat                                  2023-06-23 04:08:10        11796\n",
            "column_3C_weka.arff                            2023-06-23 04:08:10        26389\n",
            "Extracting all the files now...\n",
            "Done!\n"
          ]
        }
      ]
    },
    {
      "cell_type": "markdown",
      "source": [
        "##Getting Started"
      ],
      "metadata": {
        "id": "laP_-WZbWcv4"
      }
    },
    {
      "cell_type": "code",
      "execution_count": null,
      "metadata": {
        "id": "FGBS-28zpFXX"
      },
      "outputs": [],
      "source": [
        "#imports\n",
        "import pandas as pd\n",
        "from scipy.io import arff"
      ]
    },
    {
      "cell_type": "code",
      "source": [
        "#pull the data from the normal/abnormal.arff file into a pandas dataframe\n",
        "f = \"column_2C_weka.arff\"\n",
        "data = arff.loadarff(f)\n",
        "df = pd.DataFrame(data[0])\n",
        "df.tail()"
      ],
      "metadata": {
        "id": "n7lSBDPUYfbc",
        "colab": {
          "base_uri": "https://localhost:8080/",
          "height": 226
        },
        "outputId": "8e4804d5-1de3-4ea1-f9e9-e79fda834591"
      },
      "execution_count": null,
      "outputs": [
        {
          "output_type": "execute_result",
          "data": {
            "text/plain": [
              "     pelvic_incidence  pelvic_tilt  lumbar_lordosis_angle  sacral_slope  \\\n",
              "305         47.903565    13.616688              36.000000     34.286877   \n",
              "306         53.936748    20.721496              29.220534     33.215251   \n",
              "307         61.446597    22.694968              46.170347     38.751628   \n",
              "308         45.252792     8.693157              41.583126     36.559635   \n",
              "309         33.841641     5.073991              36.641233     28.767649   \n",
              "\n",
              "     pelvic_radius  degree_spondylolisthesis      class  \n",
              "305     117.449062                 -4.245395  b'Normal'  \n",
              "306     114.365845                 -0.421010  b'Normal'  \n",
              "307     125.670725                 -2.707880  b'Normal'  \n",
              "308     118.545842                  0.214750  b'Normal'  \n",
              "309     123.945244                 -0.199249  b'Normal'  "
            ],
            "text/html": [
              "\n",
              "  <div id=\"df-89392cf0-cebd-47bf-a437-4a5434ab4fbf\" class=\"colab-df-container\">\n",
              "    <div>\n",
              "<style scoped>\n",
              "    .dataframe tbody tr th:only-of-type {\n",
              "        vertical-align: middle;\n",
              "    }\n",
              "\n",
              "    .dataframe tbody tr th {\n",
              "        vertical-align: top;\n",
              "    }\n",
              "\n",
              "    .dataframe thead th {\n",
              "        text-align: right;\n",
              "    }\n",
              "</style>\n",
              "<table border=\"1\" class=\"dataframe\">\n",
              "  <thead>\n",
              "    <tr style=\"text-align: right;\">\n",
              "      <th></th>\n",
              "      <th>pelvic_incidence</th>\n",
              "      <th>pelvic_tilt</th>\n",
              "      <th>lumbar_lordosis_angle</th>\n",
              "      <th>sacral_slope</th>\n",
              "      <th>pelvic_radius</th>\n",
              "      <th>degree_spondylolisthesis</th>\n",
              "      <th>class</th>\n",
              "    </tr>\n",
              "  </thead>\n",
              "  <tbody>\n",
              "    <tr>\n",
              "      <th>305</th>\n",
              "      <td>47.903565</td>\n",
              "      <td>13.616688</td>\n",
              "      <td>36.000000</td>\n",
              "      <td>34.286877</td>\n",
              "      <td>117.449062</td>\n",
              "      <td>-4.245395</td>\n",
              "      <td>b'Normal'</td>\n",
              "    </tr>\n",
              "    <tr>\n",
              "      <th>306</th>\n",
              "      <td>53.936748</td>\n",
              "      <td>20.721496</td>\n",
              "      <td>29.220534</td>\n",
              "      <td>33.215251</td>\n",
              "      <td>114.365845</td>\n",
              "      <td>-0.421010</td>\n",
              "      <td>b'Normal'</td>\n",
              "    </tr>\n",
              "    <tr>\n",
              "      <th>307</th>\n",
              "      <td>61.446597</td>\n",
              "      <td>22.694968</td>\n",
              "      <td>46.170347</td>\n",
              "      <td>38.751628</td>\n",
              "      <td>125.670725</td>\n",
              "      <td>-2.707880</td>\n",
              "      <td>b'Normal'</td>\n",
              "    </tr>\n",
              "    <tr>\n",
              "      <th>308</th>\n",
              "      <td>45.252792</td>\n",
              "      <td>8.693157</td>\n",
              "      <td>41.583126</td>\n",
              "      <td>36.559635</td>\n",
              "      <td>118.545842</td>\n",
              "      <td>0.214750</td>\n",
              "      <td>b'Normal'</td>\n",
              "    </tr>\n",
              "    <tr>\n",
              "      <th>309</th>\n",
              "      <td>33.841641</td>\n",
              "      <td>5.073991</td>\n",
              "      <td>36.641233</td>\n",
              "      <td>28.767649</td>\n",
              "      <td>123.945244</td>\n",
              "      <td>-0.199249</td>\n",
              "      <td>b'Normal'</td>\n",
              "    </tr>\n",
              "  </tbody>\n",
              "</table>\n",
              "</div>\n",
              "    <div class=\"colab-df-buttons\">\n",
              "\n",
              "  <div class=\"colab-df-container\">\n",
              "    <button class=\"colab-df-convert\" onclick=\"convertToInteractive('df-89392cf0-cebd-47bf-a437-4a5434ab4fbf')\"\n",
              "            title=\"Convert this dataframe to an interactive table.\"\n",
              "            style=\"display:none;\">\n",
              "\n",
              "  <svg xmlns=\"http://www.w3.org/2000/svg\" height=\"24px\" viewBox=\"0 -960 960 960\">\n",
              "    <path d=\"M120-120v-720h720v720H120Zm60-500h600v-160H180v160Zm220 220h160v-160H400v160Zm0 220h160v-160H400v160ZM180-400h160v-160H180v160Zm440 0h160v-160H620v160ZM180-180h160v-160H180v160Zm440 0h160v-160H620v160Z\"/>\n",
              "  </svg>\n",
              "    </button>\n",
              "\n",
              "  <style>\n",
              "    .colab-df-container {\n",
              "      display:flex;\n",
              "      gap: 12px;\n",
              "    }\n",
              "\n",
              "    .colab-df-convert {\n",
              "      background-color: #E8F0FE;\n",
              "      border: none;\n",
              "      border-radius: 50%;\n",
              "      cursor: pointer;\n",
              "      display: none;\n",
              "      fill: #1967D2;\n",
              "      height: 32px;\n",
              "      padding: 0 0 0 0;\n",
              "      width: 32px;\n",
              "    }\n",
              "\n",
              "    .colab-df-convert:hover {\n",
              "      background-color: #E2EBFA;\n",
              "      box-shadow: 0px 1px 2px rgba(60, 64, 67, 0.3), 0px 1px 3px 1px rgba(60, 64, 67, 0.15);\n",
              "      fill: #174EA6;\n",
              "    }\n",
              "\n",
              "    .colab-df-buttons div {\n",
              "      margin-bottom: 4px;\n",
              "    }\n",
              "\n",
              "    [theme=dark] .colab-df-convert {\n",
              "      background-color: #3B4455;\n",
              "      fill: #D2E3FC;\n",
              "    }\n",
              "\n",
              "    [theme=dark] .colab-df-convert:hover {\n",
              "      background-color: #434B5C;\n",
              "      box-shadow: 0px 1px 3px 1px rgba(0, 0, 0, 0.15);\n",
              "      filter: drop-shadow(0px 1px 2px rgba(0, 0, 0, 0.3));\n",
              "      fill: #FFFFFF;\n",
              "    }\n",
              "  </style>\n",
              "\n",
              "    <script>\n",
              "      const buttonEl =\n",
              "        document.querySelector('#df-89392cf0-cebd-47bf-a437-4a5434ab4fbf button.colab-df-convert');\n",
              "      buttonEl.style.display =\n",
              "        google.colab.kernel.accessAllowed ? 'block' : 'none';\n",
              "\n",
              "      async function convertToInteractive(key) {\n",
              "        const element = document.querySelector('#df-89392cf0-cebd-47bf-a437-4a5434ab4fbf');\n",
              "        const dataTable =\n",
              "          await google.colab.kernel.invokeFunction('convertToInteractive',\n",
              "                                                    [key], {});\n",
              "        if (!dataTable) return;\n",
              "\n",
              "        const docLinkHtml = 'Like what you see? Visit the ' +\n",
              "          '<a target=\"_blank\" href=https://colab.research.google.com/notebooks/data_table.ipynb>data table notebook</a>'\n",
              "          + ' to learn more about interactive tables.';\n",
              "        element.innerHTML = '';\n",
              "        dataTable['output_type'] = 'display_data';\n",
              "        await google.colab.output.renderOutput(dataTable, element);\n",
              "        const docLink = document.createElement('div');\n",
              "        docLink.innerHTML = docLinkHtml;\n",
              "        element.appendChild(docLink);\n",
              "      }\n",
              "    </script>\n",
              "  </div>\n",
              "\n",
              "\n",
              "<div id=\"df-568b18b0-f890-4d4a-a15f-355f99fe74d7\">\n",
              "  <button class=\"colab-df-quickchart\" onclick=\"quickchart('df-568b18b0-f890-4d4a-a15f-355f99fe74d7')\"\n",
              "            title=\"Suggest charts.\"\n",
              "            style=\"display:none;\">\n",
              "\n",
              "<svg xmlns=\"http://www.w3.org/2000/svg\" height=\"24px\"viewBox=\"0 0 24 24\"\n",
              "     width=\"24px\">\n",
              "    <g>\n",
              "        <path d=\"M19 3H5c-1.1 0-2 .9-2 2v14c0 1.1.9 2 2 2h14c1.1 0 2-.9 2-2V5c0-1.1-.9-2-2-2zM9 17H7v-7h2v7zm4 0h-2V7h2v10zm4 0h-2v-4h2v4z\"/>\n",
              "    </g>\n",
              "</svg>\n",
              "  </button>\n",
              "\n",
              "<style>\n",
              "  .colab-df-quickchart {\n",
              "      --bg-color: #E8F0FE;\n",
              "      --fill-color: #1967D2;\n",
              "      --hover-bg-color: #E2EBFA;\n",
              "      --hover-fill-color: #174EA6;\n",
              "      --disabled-fill-color: #AAA;\n",
              "      --disabled-bg-color: #DDD;\n",
              "  }\n",
              "\n",
              "  [theme=dark] .colab-df-quickchart {\n",
              "      --bg-color: #3B4455;\n",
              "      --fill-color: #D2E3FC;\n",
              "      --hover-bg-color: #434B5C;\n",
              "      --hover-fill-color: #FFFFFF;\n",
              "      --disabled-bg-color: #3B4455;\n",
              "      --disabled-fill-color: #666;\n",
              "  }\n",
              "\n",
              "  .colab-df-quickchart {\n",
              "    background-color: var(--bg-color);\n",
              "    border: none;\n",
              "    border-radius: 50%;\n",
              "    cursor: pointer;\n",
              "    display: none;\n",
              "    fill: var(--fill-color);\n",
              "    height: 32px;\n",
              "    padding: 0;\n",
              "    width: 32px;\n",
              "  }\n",
              "\n",
              "  .colab-df-quickchart:hover {\n",
              "    background-color: var(--hover-bg-color);\n",
              "    box-shadow: 0 1px 2px rgba(60, 64, 67, 0.3), 0 1px 3px 1px rgba(60, 64, 67, 0.15);\n",
              "    fill: var(--button-hover-fill-color);\n",
              "  }\n",
              "\n",
              "  .colab-df-quickchart-complete:disabled,\n",
              "  .colab-df-quickchart-complete:disabled:hover {\n",
              "    background-color: var(--disabled-bg-color);\n",
              "    fill: var(--disabled-fill-color);\n",
              "    box-shadow: none;\n",
              "  }\n",
              "\n",
              "  .colab-df-spinner {\n",
              "    border: 2px solid var(--fill-color);\n",
              "    border-color: transparent;\n",
              "    border-bottom-color: var(--fill-color);\n",
              "    animation:\n",
              "      spin 1s steps(1) infinite;\n",
              "  }\n",
              "\n",
              "  @keyframes spin {\n",
              "    0% {\n",
              "      border-color: transparent;\n",
              "      border-bottom-color: var(--fill-color);\n",
              "      border-left-color: var(--fill-color);\n",
              "    }\n",
              "    20% {\n",
              "      border-color: transparent;\n",
              "      border-left-color: var(--fill-color);\n",
              "      border-top-color: var(--fill-color);\n",
              "    }\n",
              "    30% {\n",
              "      border-color: transparent;\n",
              "      border-left-color: var(--fill-color);\n",
              "      border-top-color: var(--fill-color);\n",
              "      border-right-color: var(--fill-color);\n",
              "    }\n",
              "    40% {\n",
              "      border-color: transparent;\n",
              "      border-right-color: var(--fill-color);\n",
              "      border-top-color: var(--fill-color);\n",
              "    }\n",
              "    60% {\n",
              "      border-color: transparent;\n",
              "      border-right-color: var(--fill-color);\n",
              "    }\n",
              "    80% {\n",
              "      border-color: transparent;\n",
              "      border-right-color: var(--fill-color);\n",
              "      border-bottom-color: var(--fill-color);\n",
              "    }\n",
              "    90% {\n",
              "      border-color: transparent;\n",
              "      border-bottom-color: var(--fill-color);\n",
              "    }\n",
              "  }\n",
              "</style>\n",
              "\n",
              "  <script>\n",
              "    async function quickchart(key) {\n",
              "      const quickchartButtonEl =\n",
              "        document.querySelector('#' + key + ' button');\n",
              "      quickchartButtonEl.disabled = true;  // To prevent multiple clicks.\n",
              "      quickchartButtonEl.classList.add('colab-df-spinner');\n",
              "      try {\n",
              "        const charts = await google.colab.kernel.invokeFunction(\n",
              "            'suggestCharts', [key], {});\n",
              "      } catch (error) {\n",
              "        console.error('Error during call to suggestCharts:', error);\n",
              "      }\n",
              "      quickchartButtonEl.classList.remove('colab-df-spinner');\n",
              "      quickchartButtonEl.classList.add('colab-df-quickchart-complete');\n",
              "    }\n",
              "    (() => {\n",
              "      let quickchartButtonEl =\n",
              "        document.querySelector('#df-568b18b0-f890-4d4a-a15f-355f99fe74d7 button');\n",
              "      quickchartButtonEl.style.display =\n",
              "        google.colab.kernel.accessAllowed ? 'block' : 'none';\n",
              "    })();\n",
              "  </script>\n",
              "</div>\n",
              "    </div>\n",
              "  </div>\n"
            ]
          },
          "metadata": {},
          "execution_count": 3
        }
      ]
    },
    {
      "cell_type": "code",
      "source": [
        "#check for null and NA values\n",
        "df.isnull()\n",
        "df.isna()\n",
        "#the dataset does not have any null or NA values,\n",
        "#which is what I'd expect from patient data.\n",
        "#If a patient were unable to provide a measurement\n",
        "#they'd be outside of the scope of what I'm interested in."
      ],
      "metadata": {
        "id": "QMQq59gWrZZE"
      },
      "execution_count": null,
      "outputs": []
    },
    {
      "cell_type": "code",
      "source": [
        "#for a reason I can't figure out, the class column is in bytes and not strings\n",
        "#this code converts them to strings\n",
        "df['class'] = df['class'].str.decode(\"utf-8\")\n",
        "df.head()"
      ],
      "metadata": {
        "id": "etB4bxczxUP-"
      },
      "execution_count": null,
      "outputs": []
    },
    {
      "cell_type": "code",
      "source": [
        "#this code will do all of the above for the abnormal/subclasses.arff file\n",
        "f_abnormal = \"column_3C_weka.arff\"\n",
        "data_abnormal = arff.loadarff(f_abnormal)\n",
        "df_abnormal = pd.DataFrame(data_abnormal[0])\n",
        "df_abnormal['class'] = df_abnormal['class'].str.decode(\"utf-8\")\n",
        "df_abnormal.isnull()\n",
        "df_abnormal.isna()"
      ],
      "metadata": {
        "id": "AN-sBDh1bHNj"
      },
      "execution_count": null,
      "outputs": []
    },
    {
      "cell_type": "markdown",
      "source": [
        "##Exploratory Analysis"
      ],
      "metadata": {
        "id": "bN2rWyEJvbh7"
      }
    },
    {
      "cell_type": "markdown",
      "source": [
        "###Measurements"
      ],
      "metadata": {
        "id": "jnelv-aKsYxi"
      }
    },
    {
      "cell_type": "code",
      "source": [
        "df[\"class\"].unique()"
      ],
      "metadata": {
        "colab": {
          "base_uri": "https://localhost:8080/"
        },
        "id": "YHLGavwPWRoK",
        "outputId": "c652273a-f5c2-42f3-d770-a70a4c96df02"
      },
      "execution_count": null,
      "outputs": [
        {
          "output_type": "execute_result",
          "data": {
            "text/plain": [
              "array(['Abnormal', 'Normal'], dtype=object)"
            ]
          },
          "metadata": {},
          "execution_count": 7
        }
      ]
    },
    {
      "cell_type": "code",
      "source": [
        "#mean, median, and range of measurements for all spine classes\n",
        "#mean\n",
        "total_mean = df.mean()\n",
        "print(f\"\\nThe mean value for each measurement is\\n{total_mean}\")\n",
        "\n",
        "#median\n",
        "total_median = df.median()\n",
        "print(f\"\\nThe median value for each measurement is\\n{total_median}\")\n",
        "\n",
        "#range\n",
        "total_min = df.min(numeric_only=True)\n",
        "total_max = df.max(numeric_only=True)\n",
        "total_range = pd.concat([total_min, total_max], axis=1, keys=[\"min\",\"max\"])\n",
        "print(f\"\\nThe range for each measurement is\\n{total_range}\")\n"
      ],
      "metadata": {
        "id": "4Tom8euDve_l",
        "colab": {
          "base_uri": "https://localhost:8080/"
        },
        "outputId": "ef6fed05-745b-4d80-96ce-746abe047e95"
      },
      "execution_count": null,
      "outputs": [
        {
          "output_type": "stream",
          "name": "stdout",
          "text": [
            "\n",
            "The mean value for each measurement is\n",
            "pelvic_incidence             60.496653\n",
            "pelvic_tilt                  17.542822\n",
            "lumbar_lordosis_angle        51.930930\n",
            "sacral_slope                 42.953831\n",
            "pelvic_radius               117.920655\n",
            "degree_spondylolisthesis     26.296694\n",
            "dtype: float64\n",
            "\n",
            "The median value for each measurement is\n",
            "pelvic_incidence             58.691038\n",
            "pelvic_tilt                  16.357689\n",
            "lumbar_lordosis_angle        49.562398\n",
            "sacral_slope                 42.404912\n",
            "pelvic_radius               118.268178\n",
            "degree_spondylolisthesis     11.767934\n",
            "dtype: float64\n",
            "\n",
            "The range for each measurement is\n",
            "                                min         max\n",
            "pelvic_incidence          26.147921  129.834041\n",
            "pelvic_tilt               -6.554948   49.431864\n",
            "lumbar_lordosis_angle     14.000000  125.742385\n",
            "sacral_slope              13.366931  121.429566\n",
            "pelvic_radius             70.082575  163.071041\n",
            "degree_spondylolisthesis -11.058179  418.543082\n"
          ]
        },
        {
          "output_type": "stream",
          "name": "stderr",
          "text": [
            "<ipython-input-8-68f8cc74c180>:3: FutureWarning: The default value of numeric_only in DataFrame.mean is deprecated. In a future version, it will default to False. In addition, specifying 'numeric_only=None' is deprecated. Select only valid columns or specify the value of numeric_only to silence this warning.\n",
            "  total_mean = df.mean()\n",
            "<ipython-input-8-68f8cc74c180>:7: FutureWarning: The default value of numeric_only in DataFrame.median is deprecated. In a future version, it will default to False. In addition, specifying 'numeric_only=None' is deprecated. Select only valid columns or specify the value of numeric_only to silence this warning.\n",
            "  total_median = df.median()\n"
          ]
        }
      ]
    },
    {
      "cell_type": "code",
      "source": [
        "#mean, median, and range of normal measurements\n",
        "df_normal = df.loc[df['class'] == 'Normal']\n",
        "\n",
        "#mean\n",
        "normal_mean = df_normal.mean()\n",
        "print(f\"\\nThe mean value for each normal measurement is\\n{normal_mean}\")\n",
        "\n",
        "#median\n",
        "normal_median = df_normal.median()\n",
        "print(f\"\\nThe median value for each normal measurement is\\n{normal_median}\")\n",
        "\n",
        "#range\n",
        "normal_min = df_normal.min(numeric_only=True)\n",
        "normal_max = df_normal.max(numeric_only=True)\n",
        "normal_range = pd.concat([normal_min, normal_max], axis=1, keys=[\"min\",\"max\"])\n",
        "print(f\"\\nThe range for each normal measurement is\\n{normal_range}\")\n"
      ],
      "metadata": {
        "id": "mM37Z8ZjmE7b",
        "colab": {
          "base_uri": "https://localhost:8080/"
        },
        "outputId": "882c6e87-ff39-4303-9b2b-75bfb6f91ebd"
      },
      "execution_count": null,
      "outputs": [
        {
          "output_type": "stream",
          "name": "stdout",
          "text": [
            "\n",
            "The mean value for each normal measurement is\n",
            "pelvic_incidence             51.685244\n",
            "pelvic_tilt                  12.821414\n",
            "lumbar_lordosis_angle        43.542605\n",
            "sacral_slope                 38.863830\n",
            "pelvic_radius               123.890834\n",
            "degree_spondylolisthesis      2.186572\n",
            "dtype: float64\n",
            "\n",
            "The median value for each normal measurement is\n",
            "pelvic_incidence             50.123115\n",
            "pelvic_tilt                  13.482435\n",
            "lumbar_lordosis_angle        42.638923\n",
            "sacral_slope                 37.059694\n",
            "pelvic_radius               123.874328\n",
            "degree_spondylolisthesis      1.152710\n",
            "dtype: float64\n",
            "\n",
            "The range for each normal measurement is\n",
            "                                 min         max\n",
            "pelvic_incidence           30.741938   89.834676\n",
            "pelvic_tilt                -5.845994   29.894119\n",
            "lumbar_lordosis_angle      19.071075   90.563461\n",
            "sacral_slope               17.386972   67.195460\n",
            "pelvic_radius             100.501192  147.894637\n",
            "degree_spondylolisthesis  -11.058179   31.172767\n"
          ]
        },
        {
          "output_type": "stream",
          "name": "stderr",
          "text": [
            "<ipython-input-9-f1c0bcd90695>:5: FutureWarning: The default value of numeric_only in DataFrame.mean is deprecated. In a future version, it will default to False. In addition, specifying 'numeric_only=None' is deprecated. Select only valid columns or specify the value of numeric_only to silence this warning.\n",
            "  normal_mean = df_normal.mean()\n",
            "<ipython-input-9-f1c0bcd90695>:9: FutureWarning: The default value of numeric_only in DataFrame.median is deprecated. In a future version, it will default to False. In addition, specifying 'numeric_only=None' is deprecated. Select only valid columns or specify the value of numeric_only to silence this warning.\n",
            "  normal_median = df_normal.median()\n"
          ]
        }
      ]
    },
    {
      "cell_type": "code",
      "source": [
        "#mean, median, and range of abnormal measurements\n",
        "df_abnormal = df.loc[df['class'] == 'Abnormal']\n",
        "\n",
        "#mean\n",
        "abnormal_mean = df_abnormal.mean()\n",
        "print(f\"\\nThe mean value for each abnormal measurement is\\n{abnormal_mean}\")\n",
        "\n",
        "#median\n",
        "abnormal_median = df_abnormal.median()\n",
        "print(f\"\\nThe median value for each abnormal measurement is\\n{abnormal_median}\")\n",
        "\n",
        "#range\n",
        "abnormal_min = df_abnormal.min(numeric_only=True)\n",
        "abnormal_max = df_abnormal.max(numeric_only=True)\n",
        "abnormal_range = pd.concat([abnormal_min, abnormal_max], axis=1, keys=[\"min\",\"max\"])\n",
        "print(f\"\\nThe range for each abnormal measurement is\\n{abnormal_range}\")\n"
      ],
      "metadata": {
        "id": "xPOiFnOI6L55",
        "colab": {
          "base_uri": "https://localhost:8080/"
        },
        "outputId": "0b0518ba-abe8-4b4b-837a-b4c8df4f599e"
      },
      "execution_count": null,
      "outputs": [
        {
          "output_type": "stream",
          "name": "stdout",
          "text": [
            "\n",
            "The mean value for each abnormal measurement is\n",
            "pelvic_incidence             64.692562\n",
            "pelvic_tilt                  19.791111\n",
            "lumbar_lordosis_angle        55.925370\n",
            "sacral_slope                 44.901450\n",
            "pelvic_radius               115.077713\n",
            "degree_spondylolisthesis     37.777705\n",
            "dtype: float64\n",
            "\n",
            "The median value for each abnormal measurement is\n",
            "pelvic_incidence             65.274888\n",
            "pelvic_tilt                  18.798899\n",
            "lumbar_lordosis_angle        56.150000\n",
            "sacral_slope                 44.639597\n",
            "pelvic_radius               115.650323\n",
            "degree_spondylolisthesis     31.946516\n",
            "dtype: float64\n",
            "\n",
            "The range for each abnormal measurement is\n",
            "                                min         max\n",
            "pelvic_incidence          26.147921  129.834041\n",
            "pelvic_tilt               -6.554948   49.431864\n",
            "lumbar_lordosis_angle     14.000000  125.742385\n",
            "sacral_slope              13.366931  121.429566\n",
            "pelvic_radius             70.082575  163.071041\n",
            "degree_spondylolisthesis -10.675871  418.543082\n"
          ]
        },
        {
          "output_type": "stream",
          "name": "stderr",
          "text": [
            "<ipython-input-11-5bfd329aedc4>:5: FutureWarning: The default value of numeric_only in DataFrame.mean is deprecated. In a future version, it will default to False. In addition, specifying 'numeric_only=None' is deprecated. Select only valid columns or specify the value of numeric_only to silence this warning.\n",
            "  abnormal_mean = df_abnormal.mean()\n",
            "<ipython-input-11-5bfd329aedc4>:9: FutureWarning: The default value of numeric_only in DataFrame.median is deprecated. In a future version, it will default to False. In addition, specifying 'numeric_only=None' is deprecated. Select only valid columns or specify the value of numeric_only to silence this warning.\n",
            "  abnormal_median = df_abnormal.median()\n"
          ]
        }
      ]
    },
    {
      "cell_type": "markdown",
      "source": [
        "Here are the major things to take away from the above calculations. For pelvic radius, both the mean and median"
      ],
      "metadata": {
        "id": "DqdMz-c8uwnR"
      }
    },
    {
      "cell_type": "code",
      "source": [
        "df_abnormal[\"class\"].unique()"
      ],
      "metadata": {
        "colab": {
          "base_uri": "https://localhost:8080/"
        },
        "id": "XubPR7M4jaXv",
        "outputId": "662db6b8-d692-4444-9a77-483ac0893f21"
      },
      "execution_count": null,
      "outputs": [
        {
          "output_type": "execute_result",
          "data": {
            "text/plain": [
              "array(['Hernia', 'Spondylolisthesis', 'Normal'], dtype=object)"
            ]
          },
          "metadata": {},
          "execution_count": 13
        }
      ]
    },
    {
      "cell_type": "code",
      "source": [
        "#mean, median, and range of hernia measurements\n",
        "df_hernia = df_abnormal.loc[df_abnormal['class'] == 'Hernia']\n",
        "\n",
        "#mean\n",
        "hernia_mean = df_hernia.mean()\n",
        "print(f\"\\nThe mean value for each hernia measurement is\\n{hernia_mean}\")\n",
        "\n",
        "#median\n",
        "hernia_median = df_hernia.median()\n",
        "print(f\"\\nThe median value for each hernia measurement is\\n{hernia_median}\")\n",
        "\n",
        "#range\n",
        "hernia_min = df_hernia.min(numeric_only=True)\n",
        "hernia_max = df_hernia.max(numeric_only=True)\n",
        "hernia_range = pd.concat([hernia_min, hernia_max], axis=1, keys=[\"min\",\"max\"])\n",
        "print(f\"\\nThe range for each hernia measurement is\\n{hernia_range}\")"
      ],
      "metadata": {
        "id": "mykBUIXMjb0V"
      },
      "execution_count": null,
      "outputs": []
    },
    {
      "cell_type": "code",
      "source": [
        "#mean, median, and range of spondylolisthesis measurements\n",
        "df_spondy = df_abnormal.loc[df_abnormal['class'] == 'Spondylolisthesis']\n",
        "\n",
        "#mean\n",
        "spondy_mean = df_spondy.mean()\n",
        "print(f\"\\nThe mean value for each spondylolisthesis measurement is\\n{spondy_mean}\")\n",
        "\n",
        "#median\n",
        "spondy_median = df_spondy.median()\n",
        "print(f\"\\nThe median value for each spondylolisthesis measurement is\\n{spondy_median}\")\n",
        "\n",
        "#range\n",
        "spondy_min = df_spondy.min(numeric_only=True)\n",
        "spondy_max = df_spondy.max(numeric_only=True)\n",
        "spondy_range = pd.concat([spondy_min, spondy_max], axis=1, keys=[\"min\",\"max\"])\n",
        "print(f\"\\nThe range for each spondylolisthesis measurement is\\n{spondy_range}\")"
      ],
      "metadata": {
        "id": "3YcquKUllZem"
      },
      "execution_count": null,
      "outputs": []
    },
    {
      "cell_type": "markdown",
      "source": [
        "Observations on the above calculations will go here"
      ],
      "metadata": {
        "id": "Wh7ZG3Drlc_L"
      }
    },
    {
      "cell_type": "markdown",
      "source": [
        "###Relationships"
      ],
      "metadata": {
        "id": "FhJSADCXsdxp"
      }
    },
    {
      "cell_type": "code",
      "source": [
        "#imports for data visualization\n",
        "import seaborn as sns\n",
        "sns.set_theme()"
      ],
      "metadata": {
        "id": "B_RmyYg3_uib"
      },
      "execution_count": null,
      "outputs": []
    },
    {
      "cell_type": "code",
      "source": [
        "#here we'll compare normal and abnormal spines\n",
        "sns.relplot(\n",
        "    data = df,\n",
        "    x=\"pelvic_incidence\", y=\"pelvic_radius\",\n",
        "    hue=\"class\",\n",
        "    col=\"class\",\n",
        ")"
      ],
      "metadata": {
        "id": "tYkLEoTaCTpa"
      },
      "execution_count": null,
      "outputs": []
    },
    {
      "cell_type": "code",
      "source": [
        "sns.relplot(\n",
        "    data = df,\n",
        "    x=\"sacral_slope\", y=\"degree_spondylolisthesis\",\n",
        "    hue=\"class\"\n",
        ")"
      ],
      "metadata": {
        "id": "k0rDtEOvsJrT"
      },
      "execution_count": null,
      "outputs": []
    },
    {
      "cell_type": "markdown",
      "source": [
        "Observations on normal vs abnormal spines go here"
      ],
      "metadata": {
        "id": "Se6KpS9FDGMN"
      }
    },
    {
      "cell_type": "code",
      "source": [
        "#here we'll look at the differences between disk herneas, and spondylolisthesis\n",
        "sns.relplot(\n",
        "    data = df_abnormal[df_abnormal[\"class\"] != \"Normal\"],\n",
        "     x=\"pelvic_incidence\", y=\"degree_spondylolisthesis\",\n",
        "    hue=\"class\",\n",
        ")"
      ],
      "metadata": {
        "id": "L_U8MxSvshuP"
      },
      "execution_count": null,
      "outputs": []
    },
    {
      "cell_type": "markdown",
      "source": [
        "Observations on disk herneas and spondylolisthesis go here"
      ],
      "metadata": {
        "id": "NQwVlG0aDKx9"
      }
    },
    {
      "cell_type": "code",
      "source": [
        "#here we'll compare normal spines to each of the abnormal sub-classifications\n",
        "\n"
      ],
      "metadata": {
        "id": "V3NENr-0CvTV"
      },
      "execution_count": null,
      "outputs": []
    },
    {
      "cell_type": "markdown",
      "source": [
        "Observations on normal compared to disk herneas and spondylolisthesis go here"
      ],
      "metadata": {
        "id": "nC4DXDqjDS4j"
      }
    },
    {
      "cell_type": "markdown",
      "source": [
        "##Models"
      ],
      "metadata": {
        "id": "Rn4gW2R5zK7T"
      }
    },
    {
      "cell_type": "markdown",
      "source": [
        "The data has already been labled, and each patient given a classification, so supervised models will work best here. To start, with the K-Nearest Neighbor model the optimization will be done for each hyperparamater with some visualizations to show the process. For the artificial neural network and Gradiant Boost model, I'll use sklearn's model_selection.GridSearchCV function that does all of the optimization for us."
      ],
      "metadata": {
        "id": "NKtpNH4-E8ff"
      }
    },
    {
      "cell_type": "code",
      "source": [
        "#this cell contains all imports for training and testing the models\n",
        "import numpy\n",
        "import matplotlib.pyplot as plt\n",
        "\n",
        "from sklearn.model_selection import train_test_split, cross_validate, GridSearchCV\n",
        "from sklearn.metrics import accuracy_score, precision_score, make_scorer\n",
        "\n",
        "from sklearn.neighbors import KNeighborsClassifier\n",
        "from sklearn.neural_network import MLPClassifier\n",
        "from sklearn.ensemble import GradientBoostingClassifier"
      ],
      "metadata": {
        "id": "5Qd5ivROzaGB"
      },
      "execution_count": null,
      "outputs": []
    },
    {
      "cell_type": "code",
      "source": [
        "#before we get into building any of the models,\n",
        "#heres some code to easily use k-fold validation data\n",
        "def model_optimization(model_scores):\n",
        "  #k-fold accuracy\n",
        "  kfold_accuracy = model_scores[\"test_accuracy\"].mean()\n",
        "  accuracy.append(kfold_accuracy)\n",
        "  #k-fold accuracy standard deviation\n",
        "  kfold_acc_sd = numpy.std(model_scores[\"test_accuracy\"])\n",
        "  acc_sd.append(kfold_acc_sd)\n",
        "\n",
        "  #k-fold precision\n",
        "  kfold_precision = model_scores[\"test_precision\"].mean()\n",
        "  precision.append(kfold_precision)\n",
        "  #k-fold precision standard deviation\n",
        "  kfold_pre_sd = numpy.std(model_scores[\"test_precision\"])\n",
        "  pre_sd.append(kfold_pre_sd)"
      ],
      "metadata": {
        "id": "SULl0hSw5-dz"
      },
      "execution_count": null,
      "outputs": []
    },
    {
      "cell_type": "code",
      "source": [
        "#puts test results into a dataframe for easy graphing\n",
        "def prep_df(index):\n",
        "  results_df = pd.DataFrame(index=index, columns=[\"Accuracy_Score\",\"Acc_Std_Dev\", \"Precision_Score\",\"Pre_Std_Dev\"])\n",
        "  results_df[\"Accuracy_Score\"] = accuracy\n",
        "  results_df[\"Acc_Std_Dev\"] = acc_sd\n",
        "  results_df[\"Precision_Score\"] = precision\n",
        "  results_df[\"Pre_Std_Dev\"] = pre_sd\n",
        "  return(results_df)"
      ],
      "metadata": {
        "id": "qurCdqrU_npi"
      },
      "execution_count": null,
      "outputs": []
    },
    {
      "cell_type": "markdown",
      "source": [
        "###K-Nearest Neighbor"
      ],
      "metadata": {
        "id": "dQJDijJe7Yt5"
      }
    },
    {
      "cell_type": "markdown",
      "source": [
        "####Setting Up"
      ],
      "metadata": {
        "id": "JJB0oojE7HJT"
      }
    },
    {
      "cell_type": "code",
      "source": [
        "#here we'll structure the data for the knn model,\n",
        "#and split into training and test sets\n",
        "\n",
        "#knn model only accepts numerical data, so we'll give each outcome a number\n",
        "#normal = 0, and abnormal = 1\n",
        "knn_data = df.replace({\"Normal\": 0, \"Abnormal\": 1})\n",
        "knn_features = df.drop(\"class\", axis=1)\n",
        "knn_targets = knn_data[\"class\"] #lists targets\n",
        "\n",
        "knn_X_train, knn_X_test, knn_Y_train, knn_Y_test = train_test_split(\n",
        "    knn_features, knn_targets, test_size=0.2, random_state=50, shuffle=True\n",
        ")\n",
        "#knn_X_train.head()\n",
        "#knn_Y_test.head()"
      ],
      "metadata": {
        "id": "2KfawF3Cw4AD"
      },
      "execution_count": null,
      "outputs": []
    },
    {
      "cell_type": "markdown",
      "source": [
        "####Optimizing Paramaters"
      ],
      "metadata": {
        "id": "wZ0zcxqN6-AJ"
      }
    },
    {
      "cell_type": "markdown",
      "source": [
        "To optimize the k-nearest-neightbor model, we'll look at 2 of its hyperparamaters; the value of K, and how the model weighs its data\n",
        "\n"
      ],
      "metadata": {
        "id": "LBOUiuCxsTbg"
      }
    },
    {
      "cell_type": "code",
      "source": [
        "#defines hyperparamater options\n",
        "k_range = range(1,20)\n",
        "#set up data structures to hold results\n",
        "accuracy = []\n",
        "acc_sd = []\n",
        "precision = []\n",
        "pre_sd = []\n",
        "\n",
        "#optimizes number of neighbors\n",
        "for i in k_range:\n",
        "  knn_model = KNeighborsClassifier(n_neighbors=i)\n",
        "  knn_scores = cross_validate(knn_model, knn_X_train, knn_Y_train, cv=5, scoring=[\"accuracy\", \"precision\"])\n",
        "  model_optimization(knn_scores)\n",
        "\n",
        "#put test results into a dataframe for easy graphing\n",
        "results_df = prep_df(k_range)"
      ],
      "metadata": {
        "id": "gn1YYMi_VSw7"
      },
      "execution_count": null,
      "outputs": []
    },
    {
      "cell_type": "code",
      "source": [
        "#visualizes the k neighbor optimization accuracy\n",
        "k_acc_graph = sns.lineplot(x = results_df.index, y = results_df[\"Accuracy_Score\"])\n",
        "k_acc_graph.set(title = \"Optimizing the Value of K\", xlabel = \"Value of K\")\n",
        "k_acc_graph.set_ylim(0.7, 1.0)\n",
        "k_acc_graph.set_xlim(0,20)\n",
        "plt.errorbar(\n",
        "    x = results_df.index,\n",
        "    y = results_df[\"Accuracy_Score\"],\n",
        "    yerr=results_df[\"Acc_Std_Dev\"],\n",
        "    ecolor = \"blue\",\n",
        "    elinewidth = 15,\n",
        "    fmt = \"none\",\n",
        "    alpha = 0.25\n",
        ")\n",
        "plt.show()"
      ],
      "metadata": {
        "id": "FPBCMWa7GB6O"
      },
      "execution_count": null,
      "outputs": []
    },
    {
      "cell_type": "code",
      "source": [
        "#visualizes the k neighbor optimization precision\n",
        "k_pre_graph = sns.lineplot(x = results_df.index, y = results_df[\"Precision_Score\"])\n",
        "k_pre_graph.set(title = \"Optimizing the Value of K\", xlabel = \"Value of K\")\n",
        "plt.errorbar(\n",
        "    x = results_df.index,\n",
        "    y = results_df[\"Precision_Score\"],\n",
        "    yerr=results_df[\"Pre_Std_Dev\"],\n",
        "    ecolor = \"orange\",\n",
        "    elinewidth = 15,\n",
        "    fmt = \"none\",\n",
        "    alpha = 0.25\n",
        ")\n",
        "plt.show()"
      ],
      "metadata": {
        "id": "vDY_qZNsa-v8"
      },
      "execution_count": null,
      "outputs": []
    },
    {
      "cell_type": "markdown",
      "source": [
        "It looks like the highest accuracy with the lowest value of K is 8, at about 87%, with 95% precision, so we will use that."
      ],
      "metadata": {
        "id": "o7K42sfXe1xp"
      }
    },
    {
      "cell_type": "markdown",
      "source": [
        "K-Nearest-Neighbor Model Weights Optimization"
      ],
      "metadata": {
        "id": "z1_KS9hNsdpt"
      }
    },
    {
      "cell_type": "code",
      "source": [
        "#optimizes the knn model weights type\n",
        "#optimization tests to be graphed\n",
        "knn_weights = [\"uniform\", \"distance\"]\n",
        "accuracy = []\n",
        "acc_sd = []\n",
        "precision = []\n",
        "pre_sd = []\n",
        "\n",
        "for i in knn_weights:\n",
        "  knn_model = KNeighborsClassifier(\n",
        "      n_neighbors = 8,\n",
        "      weights = i\n",
        "    )\n",
        "  #k-fold weight validation\n",
        "  model_scores = cross_validate(knn_model, knn_X_train, knn_Y_train, cv=5, scoring=[\"accuracy\", \"precision\"])\n",
        "  model_optimization(model_scores)\n",
        "\n",
        "#put test results into a dataframe for easy graphing\n",
        "results_df = prep_df(knn_weights)"
      ],
      "metadata": {
        "id": "D2VrEHrv6UZ8"
      },
      "execution_count": null,
      "outputs": []
    },
    {
      "cell_type": "code",
      "source": [
        "#graph accuracy\n",
        "knn_graph = sns.barplot(x = results_df.index,y = results_df[\"Accuracy_Score\"])\n",
        "knn_graph.set_ylim(0.7,1.0)\n",
        "plt.errorbar(\n",
        "    x = results_df.index,\n",
        "    y = results_df[\"Accuracy_Score\"],\n",
        "    yerr=results_df[\"Acc_Std_Dev\"],\n",
        "    ecolor = \"black\",\n",
        "    fmt = \"none\"\n",
        ")\n",
        "plt.show()"
      ],
      "metadata": {
        "colab": {
          "base_uri": "https://localhost:8080/",
          "height": 440
        },
        "id": "mvgwkgLqGHl1",
        "outputId": "bc21bbd3-5021-47ff-8af3-6251e3fc4409"
      },
      "execution_count": null,
      "outputs": [
        {
          "output_type": "display_data",
          "data": {
            "text/plain": [
              "<Figure size 640x480 with 1 Axes>"
            ],
            "image/png": "[encoded data removed]"
          },
          "metadata": {}
        }
      ]
    },
    {
      "cell_type": "markdown",
      "source": [
        "####Final KNN Model"
      ],
      "metadata": {
        "id": "JgRAfg798k0e"
      }
    },
    {
      "cell_type": "code",
      "source": [
        "#final knn model\n",
        "knn_model = KNeighborsClassifier(\n",
        "    n_neighbors = 8,\n",
        "    weights = \"distance\"\n",
        ")\n",
        "knn_model.fit(knn_X_train, knn_Y_train)\n",
        "\n",
        "#displays the final KNN model\n",
        "knn_Y_predict = knn_model.predict(knn_X_test)\n",
        "knn_accuracy = accuracy_score(knn_Y_test, knn_Y_predict)\n",
        "knn_precision = precision_score(knn_Y_test, knn_Y_predict)\n",
        "print(\"Accuracy:\", knn_accuracy, \"Precision: \", knn_precision)"
      ],
      "metadata": {
        "colab": {
          "base_uri": "https://localhost:8080/"
        },
        "id": "2t-ls3jNaYQ3",
        "outputId": "200b4e27-8287-4a0f-d068-14434c53b13c"
      },
      "execution_count": null,
      "outputs": [
        {
          "output_type": "stream",
          "name": "stdout",
          "text": [
            "Accuracy: 0.8548387096774194 Precision:  0.926829268292683\n"
          ]
        }
      ]
    },
    {
      "cell_type": "markdown",
      "source": [
        "Thoughts on the KNN model go here"
      ],
      "metadata": {
        "id": "GxqO6yLMxgz9"
      }
    },
    {
      "cell_type": "markdown",
      "source": [
        "###Artifical Neural Network"
      ],
      "metadata": {
        "id": "ckQb9uH79WdS"
      }
    },
    {
      "cell_type": "markdown",
      "source": [
        "####Setting Up"
      ],
      "metadata": {
        "id": "s5jS0IiB9tV-"
      }
    },
    {
      "cell_type": "markdown",
      "source": [
        "For training an artifical neural network, I'd like to try and use the dataset that categorizes abnormal spines as either disk hernia or spondylolisthesis."
      ],
      "metadata": {
        "id": "UbKuIPNQ5f5W"
      }
    },
    {
      "cell_type": "code",
      "source": [
        "#here we'll structure the data for the ann model,\n",
        "#and split into training and test sets\n",
        "\n",
        "#ann model only accepts numerical data, so we'll give each outcome a number\n",
        "#normal = 0, spondylolisthesis = 1, hernia = 2\n",
        "ann_data = df_abnormal.replace({\"Normal\": 0, \"Spondylolisthesis\": 1, \"Hernia\": 2})\n",
        "ann_features = df_abnormal.drop(\"class\", axis=1)\n",
        "ann_targets = ann_data[\"class\"] #lists targets\n",
        "\n",
        "ann_X_train, ann_X_test, ann_Y_train, ann_Y_test = train_test_split(\n",
        "    ann_features, ann_targets, test_size=0.2, random_state=30, shuffle=True\n",
        ")\n",
        "#ann_X_train.head()\n",
        "#ann_Y_test.head()"
      ],
      "metadata": {
        "id": "0W3pnlyT3Q7I"
      },
      "execution_count": null,
      "outputs": []
    },
    {
      "cell_type": "markdown",
      "source": [
        "####Optimizing Paramaters"
      ],
      "metadata": {
        "id": "TplQp776-DuM"
      }
    },
    {
      "cell_type": "code",
      "source": [
        "#grid search cross validation optimizing ANN model\n",
        "#I went through each param seperately to try to narrow it down first\n",
        "paramaters = {\n",
        "    #\"solver\": ['lbfgs', 'sgd', 'adam'],\n",
        "    \"activation\": ['identity', 'logistic', 'tanh', 'relu'],\n",
        "    \"hidden_layer_sizes\": range(20,30),\n",
        "    \"max_iter\":[100000]\n",
        "} #hyperparamaters to be optimized\n",
        "ann_model = MLPClassifier() #defines model\n",
        "\n",
        "#optimization\n",
        "grid_search = GridSearchCV(ann_model, paramaters, scoring=\"accuracy\")\n",
        "grid_search.fit(ann_X_train, ann_Y_train)\n",
        "grid_search.best_params_"
      ],
      "metadata": {
        "id": "0jRP4By2F9Bb",
        "colab": {
          "base_uri": "https://localhost:8080/"
        },
        "outputId": "7acb564b-03ab-471d-ef96-371235097123"
      },
      "execution_count": null,
      "outputs": [
        {
          "output_type": "execute_result",
          "data": {
            "text/plain": [
              "{'activation': 'identity', 'hidden_layer_sizes': 21, 'max_iter': 100000}"
            ]
          },
          "metadata": {},
          "execution_count": 41
        }
      ]
    },
    {
      "cell_type": "markdown",
      "source": [
        "The highest accuracy(0.83) and precision (0.795) were reached with a hidden layer size of 22."
      ],
      "metadata": {
        "id": "3Pmr92y7x1tt"
      }
    },
    {
      "cell_type": "markdown",
      "source": [
        "####Final ANN Model"
      ],
      "metadata": {
        "id": "kR7w1bgU96UG"
      }
    },
    {
      "cell_type": "code",
      "source": [
        "#this is the final ANN model, with some tests evaluating it\n",
        "ann_model = MLPClassifier(\n",
        "    random_state=30,\n",
        "    max_iter=2000,\n",
        "    hidden_layer_sizes=(21,),\n",
        "    activation='identity',\n",
        "    solver='lbfgs'\n",
        ")\n",
        "ann_model.fit(ann_X_train, ann_Y_train)\n",
        "\n",
        "#displays the final KNN model\n",
        "ann_Y_predict = ann_model.predict(ann_X_test)\n",
        "ann_accuracy = accuracy_score(ann_Y_test, ann_Y_predict)\n",
        "ann_precision = precision_score(ann_Y_test, ann_Y_predict, average=None)\n",
        "print(\"Accuracy:\", ann_accuracy, \"Precision: \", ann_precision.mean())"
      ],
      "metadata": {
        "id": "Wacg5um-3pxl",
        "colab": {
          "base_uri": "https://localhost:8080/"
        },
        "outputId": "3bfcb7a7-5987-4ea1-dfed-9941d30b2c74"
      },
      "execution_count": null,
      "outputs": [
        {
          "output_type": "stream",
          "name": "stdout",
          "text": [
            "Accuracy: 0.8548387096774194 Precision:  0.7905525846702317\n"
          ]
        }
      ]
    },
    {
      "cell_type": "markdown",
      "source": [
        "With the artifical neural network, the accuracy also got to 85%, but the precision only got up to 79% after the optimization. I believe the precision being significantly lower than with the K-nearest neighbor model is because of the very small dataset, and the differences in how each patient was categorized."
      ],
      "metadata": {
        "id": "8tIsNYyR21ME"
      }
    },
    {
      "cell_type": "markdown",
      "source": [
        "##Conclusions"
      ],
      "metadata": {
        "id": "Aa0zsXb_vkmk"
      }
    },
    {
      "cell_type": "markdown",
      "source": [
        "These models have been a great example of how challenging it is to accurately impliment machine learning to diagnose patients. The K-nearest-neighbor model only achieved 85% accuracy.\n",
        "\n",
        "Barriers to pushing the accuracy of these models higher include: inconsistencies in how patients are diagnosed, the overall health of patients in the training data, and human health being so complicated that biomechanical measurements don't tell the whole story.\n",
        "\n",
        "While disk hernias and spondylolisthesis are among the more common orthopedic spinal abnormalities, they are not the only ones. A subject considered to have \"normal\" spine health in this study, may not have a healthy spine. With the dataset being small, only about 300 subjects, this is a fine concession to make to train a model to recognize disk hernias and spondylolisthesis."
      ],
      "metadata": {
        "id": "z7iPwuKtvrBq"
      }
    },
    {
      "cell_type": "markdown",
      "source": [
        "##Citations\n",
        "Le Huec, J. C., Aunoble, S., Philippe, L., & Nicolas, P. (2011). Pelvic parameters: origin and significance. European spine journal : official publication of the European Spine Society, the European Spinal Deformity Society, and the European Section of the Cervical Spine Research Society, 20 Suppl 5(Suppl 5), 564–571. https://doi.org/10.1007/s00586-011-1940-1\n",
        "\n",
        "Dimitrijević, V., Šćepanović, T., Milankov, V., Milankov, M., & Drid, P. (2022). Effects of Corrective Exercises on Lumbar Lordotic Angle Correction: A Systematic Review and Meta-Analysis. International journal of environmental research and public health, 19(8), 4906. https://doi.org/10.3390/ijerph19084906\n",
        "\n",
        "Tenny S, Gillis CC. Spondylolisthesis. [Updated 2023 May 22]. In: StatPearls [Internet]. Treasure Island (FL): StatPearls Publishing; 2023 Jan-. Available from: https://www.ncbi.nlm.nih.gov/books/NBK430767/\n",
        "\n",
        "Dataset: https://www.kaggle.com/datasets/nreshma/vertebral-column-dataset"
      ],
      "metadata": {
        "id": "WWzHYh0u1Xy-"
      }
    }
  ]
}